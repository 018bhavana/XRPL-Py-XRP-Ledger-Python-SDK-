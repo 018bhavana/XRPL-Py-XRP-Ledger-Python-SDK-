{
  "nbformat": 4,
  "nbformat_minor": 0,
  "metadata": {
    "colab": {
      "provenance": []
    },
    "kernelspec": {
      "name": "python3",
      "display_name": "Python 3"
    },
    "language_info": {
      "name": "python"
    }
  },
  "cells": [
    {
      "cell_type": "code",
      "execution_count": 39,
      "metadata": {
        "colab": {
          "base_uri": "https://localhost:8080/"
        },
        "id": "dVIzb1sCrzXY",
        "outputId": "14045697-6605-4e44-e377-1e6cad40415c"
      },
      "outputs": [
        {
          "output_type": "stream",
          "name": "stdout",
          "text": [
            "Requirement already satisfied: httpx<1.0.0,>=0.28.1 in /usr/local/lib/python3.12/dist-packages (0.28.1)\n",
            "Requirement already satisfied: anyio in /usr/local/lib/python3.12/dist-packages (from httpx<1.0.0,>=0.28.1) (4.10.0)\n",
            "Requirement already satisfied: certifi in /usr/local/lib/python3.12/dist-packages (from httpx<1.0.0,>=0.28.1) (2025.8.3)\n",
            "Requirement already satisfied: httpcore==1.* in /usr/local/lib/python3.12/dist-packages (from httpx<1.0.0,>=0.28.1) (1.0.9)\n",
            "Requirement already satisfied: idna in /usr/local/lib/python3.12/dist-packages (from httpx<1.0.0,>=0.28.1) (3.10)\n",
            "Requirement already satisfied: h11>=0.16 in /usr/local/lib/python3.12/dist-packages (from httpcore==1.*->httpx<1.0.0,>=0.28.1) (0.16.0)\n",
            "Requirement already satisfied: sniffio>=1.1 in /usr/local/lib/python3.12/dist-packages (from anyio->httpx<1.0.0,>=0.28.1) (1.3.1)\n",
            "Requirement already satisfied: typing_extensions>=4.5 in /usr/local/lib/python3.12/dist-packages (from anyio->httpx<1.0.0,>=0.28.1) (4.15.0)\n"
          ]
        }
      ],
      "source": [
        "!pip install --upgrade \"httpx<1.0.0,>=0.28.1\""
      ]
    },
    {
      "cell_type": "code",
      "source": [
        "!pip install xrpl-py --quiet"
      ],
      "metadata": {
        "id": "wPCzbfxjr2M4"
      },
      "execution_count": 40,
      "outputs": []
    },
    {
      "cell_type": "code",
      "source": [
        "import xrpl\n",
        "import pkg_resources\n",
        "print(\"xrpl-py:\", pkg_resources.get_distribution(\"xrpl-py\").version)\n"
      ],
      "metadata": {
        "colab": {
          "base_uri": "https://localhost:8080/"
        },
        "id": "aQAzhZR0r5Ne",
        "outputId": "0c10967c-fffc-48d6-8b03-7cf319bdd7ee"
      },
      "execution_count": 41,
      "outputs": [
        {
          "output_type": "stream",
          "name": "stdout",
          "text": [
            "xrpl-py: 4.3.0\n"
          ]
        }
      ]
    },
    {
      "cell_type": "code",
      "source": [
        "from xrpl.asyncio.clients import AsyncJsonRpcClient\n",
        "from xrpl.wallet import Wallet\n",
        "from xrpl.models.transactions import Payment\n",
        "from xrpl.asyncio.transaction import autofill, sign, submit_and_wait\n",
        "from xrpl.models.requests import AccountInfo, Tx\n",
        "\n",
        "JSON_RPC_URL = \"https://s.altnet.rippletest.net:51234\"\n",
        "client = AsyncJsonRpcClient(JSON_RPC_URL)\n",
        "\n",
        "ALICE_SEED  = \"sEdS5dwCvKMCCrHKo1siF3A6jbTR5WU\"       # faucet secret\n",
        "alice = Wallet.from_seed(ALICE_SEED)\n",
        "\n",
        "async def balance_drops(addr: str) -> int:\n",
        "    req = AccountInfo(account=addr, ledger_index=\"validated\", strict=True)\n",
        "    res = await client.request(req)\n",
        "    return int(res.result[\"account_data\"][\"Balance\"])\n",
        "\n",
        "print(\"Before -> Alice:\", await balance_drops(alice.classic_address))\n",
        "\n",
        "# Generate a new wallet for Bob using the testnet faucet\n",
        "from xrpl.asyncio.wallet import generate_faucet_wallet\n",
        "\n",
        "BOB_WALLET = await generate_faucet_wallet(client, debug=True)\n",
        "BOB_ADDRESS = BOB_WALLET.classic_address\n",
        "\n",
        "print(\"New Bob Address:\", BOB_ADDRESS)\n",
        "print(\"New Bob Seed:\", BOB_WALLET.seed)\n",
        "\n",
        "print(\"After -> Alice:\", await balance_drops(alice.classic_address),\n",
        "      \"| Bob:\", await balance_drops(BOB_ADDRESS))"
      ],
      "metadata": {
        "colab": {
          "base_uri": "https://localhost:8080/"
        },
        "id": "x_H6uG--r87O",
        "outputId": "cb7164b6-f343-4174-bbcb-3c0b2562c77d"
      },
      "execution_count": 42,
      "outputs": [
        {
          "output_type": "stream",
          "name": "stdout",
          "text": [
            "Before -> Alice: 4999950\n",
            "Attempting to fund address rJqVJxBws9qJh4NKYQVdhbKjgyGE7Ky64g\n",
            "Faucet fund successful.\n",
            "New Bob Address: rJqVJxBws9qJh4NKYQVdhbKjgyGE7Ky64g\n",
            "New Bob Seed: sEdVo1drGoEfT2N6AW8sqfHRQJewsrj\n",
            "After -> Alice: 4999950 | Bob: 10000000\n"
          ]
        }
      ]
    },
    {
      "cell_type": "code",
      "source": [
        "# Build payment\n",
        "print(\"Alice's address:\", alice.classic_address)\n",
        "print(\"Bob's address:\", BOB_ADDRESS)\n",
        "tx = Payment(\n",
        "    account=alice.classic_address,\n",
        "    destination=BOB_ADDRESS, # Use the updated BOB_ADDRESS\n",
        "    amount=\"1000000\"  # 1 XRP in drops\n",
        ")\n",
        "\n",
        "# Async -> autofill, sync -> sign, async -> submit_and_wait\n",
        "tx = await autofill(tx, client)     # await (network call)\n",
        "signed = sign(tx, alice)            # NO await (pure local signing)\n",
        "final = await submit_and_wait(signed, client)  # await (network/validation)\n",
        "\n",
        "tx_hash = signed.get_hash()\n",
        "print(\"TX Hash:\", tx_hash)"
      ],
      "metadata": {
        "colab": {
          "base_uri": "https://localhost:8080/"
        },
        "id": "5f4OVmvIsAVe",
        "outputId": "aaec0320-17f9-4c2a-a8d8-88c4ab740e0b"
      },
      "execution_count": 43,
      "outputs": [
        {
          "output_type": "stream",
          "name": "stdout",
          "text": [
            "Alice's address: rBBuyBHzNz8zTNH9g76Zi5mty4BCDyYEaS\n",
            "Bob's address: rJqVJxBws9qJh4NKYQVdhbKjgyGE7Ky64g\n",
            "TX Hash: AB34CA81C981F180DEDDA06FB553AB6ABE0A3F5E20464E3059BD4387448E60A3\n"
          ]
        }
      ]
    },
    {
      "cell_type": "code",
      "metadata": {
        "colab": {
          "base_uri": "https://localhost:8080/"
        },
        "id": "61c2a5a0",
        "outputId": "2a66200d-7dc5-4409-d58e-31d1d706fa0c"
      },
      "source": [
        "import xrpl.asyncio.wallet\n",
        "print(dir(xrpl.asyncio.wallet))"
      ],
      "execution_count": 44,
      "outputs": [
        {
          "output_type": "stream",
          "name": "stdout",
          "text": [
            "['XRPLFaucetException', '__all__', '__builtins__', '__cached__', '__doc__', '__file__', '__loader__', '__name__', '__package__', '__path__', '__spec__', 'generate_faucet_wallet', 'wallet_generation']\n"
          ]
        }
      ]
    },
    {
      "cell_type": "code",
      "metadata": {
        "colab": {
          "base_uri": "https://localhost:8080/"
        },
        "id": "39bc7afe",
        "outputId": "ce767aad-784d-4d04-a320-b3ab1c20a403"
      },
      "source": [
        "# Generate a new wallet for Bob using the testnet faucet\n",
        "from xrpl.asyncio.wallet import generate_faucet_wallet\n",
        "\n",
        "BOB_WALLET = await generate_faucet_wallet(client, debug=True)\n",
        "BOB_ADDRESS = BOB_WALLET.classic_address\n",
        "\n",
        "print(\"New Bob Address:\", BOB_ADDRESS)\n",
        "print(\"New Bob Seed:\", BOB_WALLET.seed)"
      ],
      "execution_count": 45,
      "outputs": [
        {
          "output_type": "stream",
          "name": "stdout",
          "text": [
            "Attempting to fund address rQ9TDp4ng6aQev95CanZzh5A89AYqSKjoE\n",
            "Faucet fund successful.\n",
            "New Bob Address: rQ9TDp4ng6aQev95CanZzh5A89AYqSKjoE\n",
            "New Bob Seed: sEdTPdfAkyWmHd41uGCRryDmgm3MCGt\n"
          ]
        }
      ]
    },
    {
      "cell_type": "code",
      "source": [
        "from xrpl.models.requests import Tx\n",
        "\n",
        "# If tx_hash variable isn’t in scope, paste it:\n",
        "# tx_hash = \"BA000472497676B6978E7D253F82624FA9A4290513F8911A7ED155F6BF0D0411\"\n",
        "\n",
        "tx_info = (await client.request(Tx(transaction=tx_hash))).result\n",
        "print(\"Validated:\", tx_info.get(\"validated\"))\n",
        "print(\"Engine Result:\", tx_info.get(\"meta\", {}).get(\"TransactionResult\"))\n",
        "print(\"Fee (drops):\", tx_info.get(\"Fee\"))\n",
        "print(\"Destination:\", tx_info.get(\"Destination\"))\n",
        "print(\"Amount (drops):\", tx_info.get(\"Amount\"))\n"
      ],
      "metadata": {
        "colab": {
          "base_uri": "https://localhost:8080/"
        },
        "id": "hdA3nz4DsC09",
        "outputId": "c294fd38-517d-4768-bbff-4c51b2a9b86b"
      },
      "execution_count": 46,
      "outputs": [
        {
          "output_type": "stream",
          "name": "stdout",
          "text": [
            "Validated: True\n",
            "Engine Result: tesSUCCESS\n",
            "Fee (drops): None\n",
            "Destination: None\n",
            "Amount (drops): None\n"
          ]
        }
      ]
    },
    {
      "cell_type": "code",
      "source": [
        "print(\"After -> Alice:\", await balance_drops(alice.classic_address),\n",
        "      \"| Bob:\", await balance_drops(BOB_ADDRESS))"
      ],
      "metadata": {
        "colab": {
          "base_uri": "https://localhost:8080/"
        },
        "id": "G10P0Y2BsFwO",
        "outputId": "46ae6cca-d59d-4f1c-fa2b-23524a26a19f"
      },
      "execution_count": 47,
      "outputs": [
        {
          "output_type": "stream",
          "name": "stdout",
          "text": [
            "After -> Alice: 3999940 | Bob: 10000000\n"
          ]
        }
      ]
    },
    {
      "cell_type": "code",
      "source": [
        "from xrpl.models.transactions import Payment, Memo\n",
        "import binascii\n",
        "\n",
        "# Example metadata\n",
        "DEST_TAG = 2025\n",
        "note = \"AIML Lab: XRPL payment\"\n",
        "\n",
        "# XRPL requires memo data to be hex-encoded\n",
        "note_hex = binascii.hexlify(note.encode(\"utf-8\")).decode(\"utf-8\")\n",
        "\n",
        "# Build Payment with memo + destination tag\n",
        "tx = Payment(\n",
        "    account=alice.classic_address,\n",
        "    destination=BOB_ADDRESS,\n",
        "    amount=\"1000000\",        # 1 XRP\n",
        "    destination_tag=DEST_TAG,\n",
        "    memos=[Memo(memo_data=note_hex)],\n",
        ")\n",
        "\n",
        "# Autofill, sign, and submit\n",
        "tx = await autofill(tx, client)\n",
        "signed = sign(tx, alice)        # sync\n",
        "final = await submit_and_wait(signed, client)\n",
        "\n",
        "print(\"TX Hash (memo+tag):\", signed.get_hash())\n",
        "EC8B93CCCBA1C0EB8FBC7EC7DE74E7948CABD32CB2A7AF41A25B878F9ADF95F7"
      ],
      "metadata": {
        "colab": {
          "base_uri": "https://localhost:8080/"
        },
        "id": "lu2pZ_lWsJhN",
        "outputId": "9c24bd41-f4b1-4054-a3d6-ca3125ea958f"
      },
      "execution_count": 48,
      "outputs": [
        {
          "output_type": "stream",
          "name": "stdout",
          "text": [
            "TX Hash (memo+tag): EC8B93CCCBA1C0EB8FBC7EC7DE74E7948CABD32CB2A7AF41A25B878F9ADF95F7\n"
          ]
        }
      ]
    }
  ]
}